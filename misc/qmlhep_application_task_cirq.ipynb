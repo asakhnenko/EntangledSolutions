{
  "nbformat": 4,
  "nbformat_minor": 0,
  "metadata": {
    "colab": {
      "name": "qmlhep_application_task_cirq.ipynb",
      "provenance": []
    },
    "kernelspec": {
      "name": "python3",
      "display_name": "Python 3"
    }
  },
  "cells": [
    {
      "cell_type": "code",
      "metadata": {
        "id": "4jt8NaKcZ7Sp",
        "colab_type": "code",
        "colab": {}
      },
      "source": [
        "#!pip install cirq"
      ],
      "execution_count": 0,
      "outputs": []
    },
    {
      "cell_type": "markdown",
      "metadata": {
        "id": "H3t2GJI5zwre",
        "colab_type": "text"
      },
      "source": [
        "## GSoC 2020 Student Application Test\n",
        "CERN Project: Quantum Machine Learning for High Energy Physics\n"
      ]
    },
    {
      "cell_type": "code",
      "metadata": {
        "id": "tRyOS0vuzSG9",
        "colab_type": "code",
        "colab": {}
      },
      "source": [
        "import cirq\n",
        "import numpy as np"
      ],
      "execution_count": 0,
      "outputs": []
    },
    {
      "cell_type": "markdown",
      "metadata": {
        "id": "m_KswdQFzdI7",
        "colab_type": "text"
      },
      "source": [
        "### Task 1\n",
        "1. Create a circuit with 5 qubits\n",
        "2. Apply Hadamard operation on every qubit\n",
        "3. Apply CNOT operation on (0, 1), (1,2), (2,3), (3,4)\n",
        "4. SWAP (0, 4)\n",
        "5. Rotate X with pi/2\n",
        "6. Plot the circuit\n"
      ]
    },
    {
      "cell_type": "code",
      "metadata": {
        "id": "cSomXdX0ckHO",
        "colab_type": "code",
        "outputId": "9f303009-f18c-4237-f6bf-97b1a4c9d94e",
        "colab": {
          "base_uri": "https://localhost:8080/",
          "height": 202
        }
      },
      "source": [
        "qubit_ids = [i for i in range(5)]\n",
        "\n",
        "qubits = [cirq.GridQubit(i, 0) for i in qubit_ids]\n",
        "circuit = cirq.Circuit()\n",
        "\n",
        "circuit.append(cirq.H(q) for q in qubits)\n",
        "circuit.append(cirq.CX(qubits[i], qubits[i+1]) for i in qubit_ids[:-1])\n",
        "circuit.append(cirq.SWAP(qubits[0], qubits[4]))\n",
        "rotation = cirq.rx(np.pi / 2)\n",
        "circuit.append(rotation(cirq.GridQubit(i, 0)) for i in qubit_ids)\n",
        "\n",
        "print(circuit)"
      ],
      "execution_count": 3,
      "outputs": [
        {
          "output_type": "stream",
          "text": [
            "                                             ┌─────────┐\n",
            "(0, 0): ───H───@──────────────────────────────×────────────Rx(0.5π)───\n",
            "               │                              │\n",
            "(1, 0): ───H───X───@───Rx(0.5π)───────────────┼───────────────────────\n",
            "                   │                          │\n",
            "(2, 0): ───H───────X───@──────────Rx(0.5π)────┼───────────────────────\n",
            "                       │                      │\n",
            "(3, 0): ───H───────────X──────────@───────────┼Rx(0.5π)───────────────\n",
            "                                  │           │\n",
            "(4, 0): ───H──────────────────────X───────────×────────────Rx(0.5π)───\n",
            "                                             └─────────┘\n"
          ],
          "name": "stdout"
        }
      ]
    },
    {
      "cell_type": "markdown",
      "metadata": {
        "id": "94jI4T07N5ac",
        "colab_type": "text"
      },
      "source": [
        "### Task 2\n",
        "Create a circuit that is a series of small cirq.Rx rotations and plot the probability of measuring the state in the |0⟩ state. For example, for a qubit, at first, you can rotate 0.1 degree, you get one probability of measuring the state in the |0⟩ state; then you rotate another 0.1 degree in addition, you get another probability; then you another 0.1 degree and so on.\n"
      ]
    },
    {
      "cell_type": "code",
      "metadata": {
        "id": "KnFAVoY6OdsX",
        "colab_type": "code",
        "colab": {}
      },
      "source": [
        "simulator = cirq.Simulator()\n",
        "\n",
        "probabilities = []\n",
        "angles = np.arange(0, 180, 0.1)\n",
        "\n",
        "iterations = 100\n",
        "for angle in angles:\n",
        "  qubit = cirq.GridQubit(0, 0)\n",
        "  circuit = cirq.Circuit()\n",
        "\n",
        "  rotation = cirq.rx(angle * np.pi / 180)\n",
        "  circuit.append(rotation(cirq.GridQubit(0, 0)))\n",
        "  circuit.append(cirq.measure(qubit))\n",
        "\n",
        "  result = simulator.run(circuit,  repetitions=iterations)\n",
        "  count = result.histogram(key='(0, 0)')\n",
        "\n",
        "  probability = count[0] / iterations * 100\n",
        "  probabilities.append(probability)"
      ],
      "execution_count": 0,
      "outputs": []
    },
    {
      "cell_type": "code",
      "metadata": {
        "id": "QQK38YWgnR3e",
        "colab_type": "code",
        "colab": {
          "base_uri": "https://localhost:8080/",
          "height": 297
        },
        "outputId": "259841a4-840e-45a8-ccf5-4b2f5c9559a0"
      },
      "source": [
        "import matplotlib.pyplot as plt\n",
        "\n",
        "plt.plot(angles, probabilities)\n",
        "\n",
        "plt.xlim(0, 180)\n",
        "plt.ylim(0, 100)\n",
        "\n",
        "plt.xlabel('Angles [$\\circ$]', fontsize=12)\n",
        "plt.ylabel('Probabilities [%]', fontsize=12)\n",
        "\n",
        "plt.tight_layout()"
      ],
      "execution_count": 5,
      "outputs": [
        {
          "output_type": "display_data",
          "data": {
            "image/png": "[encoded data removed]",
            "text/plain": [
              "<Figure size 432x288 with 1 Axes>"
            ]
          },
          "metadata": {
            "tags": []
          }
        }
      ]
    }
  ]
}