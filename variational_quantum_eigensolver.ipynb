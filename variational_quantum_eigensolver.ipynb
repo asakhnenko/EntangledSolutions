{
  "cells": [
    {
      "cell_type": "code",
      "execution_count": 53,
      "metadata": {
        "trusted": true
      },
      "outputs": [],
      "source": "import numpy as np\n\nimport qiskit\nfrom qiskit.visualization import *\nimport qiskit.aqua.components.optimizers as optimizers\n\nimport seaborn as sns\ncolor = sns.color_palette()\nsns.set_style('darkgrid')"
    },
    {
      "cell_type": "markdown",
      "metadata": {},
      "source": "## Variational quantum eigensolver"
    },
    {
      "cell_type": "markdown",
      "metadata": {},
      "source": "### Single qubit variational form"
    },
    {
      "cell_type": "code",
      "execution_count": 35,
      "metadata": {
        "trusted": true
      },
      "outputs": [],
      "source": "class VariationalForm:\n\n    def __init__(self, n_qubits, backend, iterations):\n        self._circuit = qiskit.QuantumCircuit(n_qubits)\n        \n        all_qubits = [i for i in range(n_qubits)]\n        \n        self.theta = qiskit.circuit.Parameter('theta')\n        self.phi = qiskit.circuit.Parameter('phi')\n        self.lamda = qiskit.circuit.Parameter('lamda')\n\n        self._circuit.u3(self.theta, self.phi, self.lamda, all_qubits)\n        self._circuit.measure_all()\n        \n        self.backend = backend\n        self.iterations = iterations\n    \n    def run(self, params):\n        job = qiskit.execute(self._circuit, \n                             self.backend, \n                             shots = self.iterations,\n                             parameter_binds = [{self.theta: params[0], \n                                                 self.phi: params[1],\n                                                 self.lamda: params[2]}])\n        result = job.result().get_counts(self._circuit)\n        \n        counts = np.array(list(result.values()))\n        probabilities = counts / self.iterations\n        \n        if not '0' in result.keys():\n            probabilities = np.append(np.array(0), probabilities)\n        if not '1' in result.keys():\n            probabilities = np.append(probabilities, np.array(0))\n\n        return np.array(probabilities)"
    },
    {
      "cell_type": "code",
      "execution_count": 36,
      "metadata": {
        "trusted": true
      },
      "outputs": [
        {
          "name": "stdout",
          "output_type": "stream",
          "text": "[0.46 0.54]\n"
        },
        {
          "data": {
            "image/png": "[encoded data removed]",
            "text/plain": "<Figure size 418.992x144.48 with 1 Axes>"
          },
          "execution_count": 36,
          "metadata": {},
          "output_type": "execute_result"
        }
      ],
      "source": "simulator = qiskit.Aer.get_backend('qasm_simulator')\n\ncircuit = VariationalForm(1, simulator, 100)\nprint(circuit.run([np.pi / 2, np.pi / 3, 1]))\ncircuit._circuit.draw()"
    },
    {
      "cell_type": "code",
      "execution_count": 38,
      "metadata": {
        "trusted": true
      },
      "outputs": [],
      "source": "import scipy.spatial.distance as distance\n\ndef loss(circuit, y_true):\n    return lambda params: distance.cityblock(circuit.run(params), y_true)"
    },
    {
      "cell_type": "code",
      "execution_count": 39,
      "metadata": {
        "trusted": true
      },
      "outputs": [
        {
          "name": "stdout",
          "output_type": "stream",
          "text": "Target distribution is set to [0.47867463 0.52132537]\n"
        },
        {
          "data": {
            "text/plain": "<matplotlib.axes._subplots.AxesSubplot at 0x7feb083fdb50>"
          },
          "execution_count": 39,
          "metadata": {},
          "output_type": "execute_result"
        },
        {
          "data": {
            "image/png": "[encoded data removed]",
            "text/plain": "<Figure size 432x288 with 1 Axes>"
          },
          "metadata": {},
          "output_type": "display_data"
        }
      ],
      "source": "target_distribution = np.random.rand(2)\ntarget_distribution /= np.sum(target_distribution)\n\nprint('Target distribution is set to {}'.format(target_distribution))\nsns.barplot(x = [0,1], y = target_distribution)"
    },
    {
      "cell_type": "code",
      "execution_count": 55,
      "metadata": {
        "trusted": true
      },
      "outputs": [
        {
          "name": "stdout",
          "output_type": "stream",
          "text": "Target distribution:       [0.48 0.52]\nPredicted distribution:    [0.47 0.53]\nPrediction error:          0.0573\n"
        }
      ],
      "source": "simulator = qiskit.Aer.get_backend('qasm_simulator')\ncircuit = VariationalForm(1, simulator, 100)\n\n# Constrained Optimization by Linear Approximation optimizer\noptimizer = optimizers.COBYLA(maxiter = 500, tol = 0.0001)\nparams, error, _ = optimizer.optimize(num_vars = 3,\n                                      objective_function = loss(circuit, target_distribution), \n                                      initial_point = np.random.rand(3))\n\npredicted_distribution = circuit.run(params)\n\nnp.set_printoptions(precision=2)\nprint(\"Target distribution:       {}\".format(target_distribution))\nprint(\"Predicted distribution:    {}\".format(predicted_distribution))\nprint(\"Prediction error:          {0:0.4f}\".format(error))"
    }
  ],
  "metadata": {
    "kernelspec": {
      "display_name": "Python 3",
      "language": "python",
      "name": "python3"
    },
    "language_info": {
      "codemirror_mode": {
        "name": "ipython",
        "version": 3
      },
      "file_extension": ".py",
      "mimetype": "text/x-python",
      "name": "python",
      "nbconvert_exporter": "python",
      "pygments_lexer": "ipython3",
      "version": "3.7.6"
    }
  },
  "nbformat": 4,
  "nbformat_minor": 4
}